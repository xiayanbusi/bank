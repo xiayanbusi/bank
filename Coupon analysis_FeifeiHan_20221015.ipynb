{
 "cells": [
  {
   "cell_type": "code",
   "execution_count": 157,
   "id": "cfc76b09",
   "metadata": {},
   "outputs": [],
   "source": [
    "# 1. prepare packages\n",
    "import pandas as pd\n",
    "import numpy as np\n",
    "import matplotlib.pyplot as plt\n",
    "import seaborn as sns"
   ]
  },
  {
   "cell_type": "code",
   "execution_count": 72,
   "id": "85db2398",
   "metadata": {},
   "outputs": [],
   "source": [
    "data=pd.read_csv('F:\\\\BaiduNetdiskDownload\\\\数据分析（数据资料）\\\\5、O2O_优惠券使用情况分析\\\\资料2\\\\ccf_offline_stage1_train.csv') # read the data"
   ]
  },
  {
   "cell_type": "markdown",
   "id": "a417d7c5",
   "metadata": {},
   "source": [
    "## 1. Data glance\n",
    "### The data has 1,754,884 entries and 7 columns. For the 7 columns, there are two datetime type variables(date and date_received), three categorical variables( user_id, merchant_id,coupon_id), two continous variables(distance and discount_rate). However, it is worth noticing that this data has missing values as showing below.   \n",
    "### Coupon_id        39.97%    Discount_rate    39.97%      Date_received    39.97%\n",
    "### Date             55.72%"
   ]
  },
  {
   "cell_type": "code",
   "execution_count": 73,
   "id": "4395e4a1",
   "metadata": {
    "scrolled": true
   },
   "outputs": [
    {
     "name": "stdout",
     "output_type": "stream",
     "text": [
      "<class 'pandas.core.frame.DataFrame'>\n",
      "RangeIndex: 1754884 entries, 0 to 1754883\n",
      "Data columns (total 7 columns):\n",
      " #   Column         Dtype  \n",
      "---  ------         -----  \n",
      " 0   User_id        int64  \n",
      " 1   Merchant_id    int64  \n",
      " 2   Coupon_id      float64\n",
      " 3   Discount_rate  object \n",
      " 4   Distance       float64\n",
      " 5   Date_received  float64\n",
      " 6   Date           float64\n",
      "dtypes: float64(4), int64(2), object(1)\n",
      "memory usage: 93.7+ MB\n"
     ]
    }
   ],
   "source": [
    "data.info()"
   ]
  },
  {
   "cell_type": "code",
   "execution_count": 74,
   "id": "9cccd271",
   "metadata": {
    "scrolled": true
   },
   "outputs": [
    {
     "data": {
      "text/html": [
       "<div>\n",
       "<style scoped>\n",
       "    .dataframe tbody tr th:only-of-type {\n",
       "        vertical-align: middle;\n",
       "    }\n",
       "\n",
       "    .dataframe tbody tr th {\n",
       "        vertical-align: top;\n",
       "    }\n",
       "\n",
       "    .dataframe thead th {\n",
       "        text-align: right;\n",
       "    }\n",
       "</style>\n",
       "<table border=\"1\" class=\"dataframe\">\n",
       "  <thead>\n",
       "    <tr style=\"text-align: right;\">\n",
       "      <th></th>\n",
       "      <th>User_id</th>\n",
       "      <th>Merchant_id</th>\n",
       "      <th>Coupon_id</th>\n",
       "      <th>Distance</th>\n",
       "      <th>Date_received</th>\n",
       "      <th>Date</th>\n",
       "    </tr>\n",
       "  </thead>\n",
       "  <tbody>\n",
       "    <tr>\n",
       "      <th>count</th>\n",
       "      <td>1.754884e+06</td>\n",
       "      <td>1.754884e+06</td>\n",
       "      <td>1.053282e+06</td>\n",
       "      <td>1.648881e+06</td>\n",
       "      <td>1.053282e+06</td>\n",
       "      <td>7.769840e+05</td>\n",
       "    </tr>\n",
       "    <tr>\n",
       "      <th>mean</th>\n",
       "      <td>3.689255e+06</td>\n",
       "      <td>4.038808e+03</td>\n",
       "      <td>6.815398e+03</td>\n",
       "      <td>2.361636e+00</td>\n",
       "      <td>2.016032e+07</td>\n",
       "      <td>2.016040e+07</td>\n",
       "    </tr>\n",
       "    <tr>\n",
       "      <th>std</th>\n",
       "      <td>2.123428e+06</td>\n",
       "      <td>2.435963e+03</td>\n",
       "      <td>4.174276e+03</td>\n",
       "      <td>3.483974e+00</td>\n",
       "      <td>1.771416e+02</td>\n",
       "      <td>1.621500e+02</td>\n",
       "    </tr>\n",
       "    <tr>\n",
       "      <th>min</th>\n",
       "      <td>4.000000e+00</td>\n",
       "      <td>1.000000e+00</td>\n",
       "      <td>1.000000e+00</td>\n",
       "      <td>0.000000e+00</td>\n",
       "      <td>2.016010e+07</td>\n",
       "      <td>2.016010e+07</td>\n",
       "    </tr>\n",
       "    <tr>\n",
       "      <th>25%</th>\n",
       "      <td>1.845052e+06</td>\n",
       "      <td>1.983000e+03</td>\n",
       "      <td>2.840000e+03</td>\n",
       "      <td>0.000000e+00</td>\n",
       "      <td>2.016013e+07</td>\n",
       "      <td>2.016031e+07</td>\n",
       "    </tr>\n",
       "    <tr>\n",
       "      <th>50%</th>\n",
       "      <td>3.694446e+06</td>\n",
       "      <td>3.532000e+03</td>\n",
       "      <td>7.430000e+03</td>\n",
       "      <td>0.000000e+00</td>\n",
       "      <td>2.016032e+07</td>\n",
       "      <td>2.016042e+07</td>\n",
       "    </tr>\n",
       "    <tr>\n",
       "      <th>75%</th>\n",
       "      <td>5.528759e+06</td>\n",
       "      <td>6.329000e+03</td>\n",
       "      <td>1.032300e+04</td>\n",
       "      <td>3.000000e+00</td>\n",
       "      <td>2.016051e+07</td>\n",
       "      <td>2.016052e+07</td>\n",
       "    </tr>\n",
       "    <tr>\n",
       "      <th>max</th>\n",
       "      <td>7.361032e+06</td>\n",
       "      <td>8.856000e+03</td>\n",
       "      <td>1.404500e+04</td>\n",
       "      <td>1.000000e+01</td>\n",
       "      <td>2.016062e+07</td>\n",
       "      <td>2.016063e+07</td>\n",
       "    </tr>\n",
       "  </tbody>\n",
       "</table>\n",
       "</div>"
      ],
      "text/plain": [
       "            User_id   Merchant_id     Coupon_id      Distance  Date_received  \\\n",
       "count  1.754884e+06  1.754884e+06  1.053282e+06  1.648881e+06   1.053282e+06   \n",
       "mean   3.689255e+06  4.038808e+03  6.815398e+03  2.361636e+00   2.016032e+07   \n",
       "std    2.123428e+06  2.435963e+03  4.174276e+03  3.483974e+00   1.771416e+02   \n",
       "min    4.000000e+00  1.000000e+00  1.000000e+00  0.000000e+00   2.016010e+07   \n",
       "25%    1.845052e+06  1.983000e+03  2.840000e+03  0.000000e+00   2.016013e+07   \n",
       "50%    3.694446e+06  3.532000e+03  7.430000e+03  0.000000e+00   2.016032e+07   \n",
       "75%    5.528759e+06  6.329000e+03  1.032300e+04  3.000000e+00   2.016051e+07   \n",
       "max    7.361032e+06  8.856000e+03  1.404500e+04  1.000000e+01   2.016062e+07   \n",
       "\n",
       "               Date  \n",
       "count  7.769840e+05  \n",
       "mean   2.016040e+07  \n",
       "std    1.621500e+02  \n",
       "min    2.016010e+07  \n",
       "25%    2.016031e+07  \n",
       "50%    2.016042e+07  \n",
       "75%    2.016052e+07  \n",
       "max    2.016063e+07  "
      ]
     },
     "execution_count": 74,
     "metadata": {},
     "output_type": "execute_result"
    }
   ],
   "source": [
    "data.describe()"
   ]
  },
  {
   "cell_type": "code",
   "execution_count": 75,
   "id": "0579720b",
   "metadata": {
    "scrolled": false
   },
   "outputs": [
    {
     "data": {
      "text/plain": [
       "User_id               0\n",
       "Merchant_id           0\n",
       "Coupon_id        701602\n",
       "Discount_rate    701602\n",
       "Distance         106003\n",
       "Date_received    701602\n",
       "Date             977900\n",
       "dtype: int64"
      ]
     },
     "execution_count": 75,
     "metadata": {},
     "output_type": "execute_result"
    }
   ],
   "source": [
    "null_value=data.isnull().sum()\n",
    "null_value"
   ]
  },
  {
   "cell_type": "code",
   "execution_count": 76,
   "id": "c5a1dc37",
   "metadata": {
    "scrolled": true
   },
   "outputs": [
    {
     "data": {
      "text/html": [
       "<div>\n",
       "<style scoped>\n",
       "    .dataframe tbody tr th:only-of-type {\n",
       "        vertical-align: middle;\n",
       "    }\n",
       "\n",
       "    .dataframe tbody tr th {\n",
       "        vertical-align: top;\n",
       "    }\n",
       "\n",
       "    .dataframe thead th {\n",
       "        text-align: right;\n",
       "    }\n",
       "</style>\n",
       "<table border=\"1\" class=\"dataframe\">\n",
       "  <thead>\n",
       "    <tr style=\"text-align: right;\">\n",
       "      <th></th>\n",
       "      <th>null_count</th>\n",
       "    </tr>\n",
       "  </thead>\n",
       "  <tbody>\n",
       "    <tr>\n",
       "      <th>User_id</th>\n",
       "      <td>0</td>\n",
       "    </tr>\n",
       "    <tr>\n",
       "      <th>Merchant_id</th>\n",
       "      <td>0</td>\n",
       "    </tr>\n",
       "    <tr>\n",
       "      <th>Coupon_id</th>\n",
       "      <td>701602</td>\n",
       "    </tr>\n",
       "    <tr>\n",
       "      <th>Discount_rate</th>\n",
       "      <td>701602</td>\n",
       "    </tr>\n",
       "    <tr>\n",
       "      <th>Distance</th>\n",
       "      <td>106003</td>\n",
       "    </tr>\n",
       "    <tr>\n",
       "      <th>Date_received</th>\n",
       "      <td>701602</td>\n",
       "    </tr>\n",
       "    <tr>\n",
       "      <th>Date</th>\n",
       "      <td>977900</td>\n",
       "    </tr>\n",
       "  </tbody>\n",
       "</table>\n",
       "</div>"
      ],
      "text/plain": [
       "               null_count\n",
       "User_id                 0\n",
       "Merchant_id             0\n",
       "Coupon_id          701602\n",
       "Discount_rate      701602\n",
       "Distance           106003\n",
       "Date_received      701602\n",
       "Date               977900"
      ]
     },
     "execution_count": 76,
     "metadata": {},
     "output_type": "execute_result"
    }
   ],
   "source": [
    "null_value=pd.DataFrame(null_value,columns=['null_count'])\n",
    "null_value"
   ]
  },
  {
   "cell_type": "code",
   "execution_count": 77,
   "id": "2d80d2b7",
   "metadata": {
    "scrolled": true
   },
   "outputs": [
    {
     "data": {
      "text/plain": [
       "User_id           0.000000\n",
       "Merchant_id       0.000000\n",
       "Coupon_id        39.979964\n",
       "Discount_rate    39.979964\n",
       "Distance          6.040456\n",
       "Date_received    39.979964\n",
       "Date             55.724481\n",
       "Name: percentage, dtype: float64"
      ]
     },
     "execution_count": 77,
     "metadata": {},
     "output_type": "execute_result"
    }
   ],
   "source": [
    "null_value['percentage']=null_value['null_count'].values/data.shape[0]*100\n",
    "null_value['percentage']"
   ]
  },
  {
   "cell_type": "markdown",
   "id": "016b19f1",
   "metadata": {},
   "source": []
  },
  {
   "cell_type": "code",
   "execution_count": 78,
   "id": "d9423068",
   "metadata": {},
   "outputs": [
    {
     "data": {
      "text/plain": [
       "array([     0,      0, 701602, 701602, 106003, 701602, 977900],\n",
       "      dtype=int64)"
      ]
     },
     "execution_count": 78,
     "metadata": {},
     "output_type": "execute_result"
    }
   ],
   "source": [
    "null_value['null_count'].values"
   ]
  },
  {
   "cell_type": "code",
   "execution_count": 79,
   "id": "f9a6a1e8",
   "metadata": {
    "scrolled": true
   },
   "outputs": [
    {
     "data": {
      "text/plain": [
       "(1754884, 7)"
      ]
     },
     "execution_count": 79,
     "metadata": {},
     "output_type": "execute_result"
    }
   ],
   "source": [
    "data.shape"
   ]
  },
  {
   "cell_type": "code",
   "execution_count": 80,
   "id": "2546f97c",
   "metadata": {
    "scrolled": true
   },
   "outputs": [
    {
     "data": {
      "text/plain": [
       "User_id          539438\n",
       "Merchant_id        8415\n",
       "Coupon_id          9738\n",
       "Discount_rate        45\n",
       "Distance             11\n",
       "Date_received       167\n",
       "Date                182\n",
       "dtype: int64"
      ]
     },
     "execution_count": 80,
     "metadata": {},
     "output_type": "execute_result"
    }
   ],
   "source": [
    "data.nunique()"
   ]
  },
  {
   "cell_type": "code",
   "execution_count": 81,
   "id": "2df2a0f9",
   "metadata": {
    "scrolled": false
   },
   "outputs": [
    {
     "data": {
      "text/html": [
       "<div>\n",
       "<style scoped>\n",
       "    .dataframe tbody tr th:only-of-type {\n",
       "        vertical-align: middle;\n",
       "    }\n",
       "\n",
       "    .dataframe tbody tr th {\n",
       "        vertical-align: top;\n",
       "    }\n",
       "\n",
       "    .dataframe thead th {\n",
       "        text-align: right;\n",
       "    }\n",
       "</style>\n",
       "<table border=\"1\" class=\"dataframe\">\n",
       "  <thead>\n",
       "    <tr style=\"text-align: right;\">\n",
       "      <th></th>\n",
       "      <th>User_id</th>\n",
       "      <th>Merchant_id</th>\n",
       "      <th>Coupon_id</th>\n",
       "      <th>Discount_rate</th>\n",
       "      <th>Distance</th>\n",
       "      <th>Date_received</th>\n",
       "      <th>Date</th>\n",
       "    </tr>\n",
       "  </thead>\n",
       "  <tbody>\n",
       "    <tr>\n",
       "      <th>0</th>\n",
       "      <td>1439408</td>\n",
       "      <td>2632</td>\n",
       "      <td>NaN</td>\n",
       "      <td>NaN</td>\n",
       "      <td>0.0</td>\n",
       "      <td>NaN</td>\n",
       "      <td>20160217.0</td>\n",
       "    </tr>\n",
       "    <tr>\n",
       "      <th>1</th>\n",
       "      <td>1439408</td>\n",
       "      <td>4663</td>\n",
       "      <td>11002.0</td>\n",
       "      <td>150:20</td>\n",
       "      <td>1.0</td>\n",
       "      <td>20160528.0</td>\n",
       "      <td>NaN</td>\n",
       "    </tr>\n",
       "    <tr>\n",
       "      <th>2</th>\n",
       "      <td>1439408</td>\n",
       "      <td>2632</td>\n",
       "      <td>8591.0</td>\n",
       "      <td>20:1</td>\n",
       "      <td>0.0</td>\n",
       "      <td>20160217.0</td>\n",
       "      <td>NaN</td>\n",
       "    </tr>\n",
       "    <tr>\n",
       "      <th>3</th>\n",
       "      <td>1439408</td>\n",
       "      <td>2632</td>\n",
       "      <td>1078.0</td>\n",
       "      <td>20:1</td>\n",
       "      <td>0.0</td>\n",
       "      <td>20160319.0</td>\n",
       "      <td>NaN</td>\n",
       "    </tr>\n",
       "    <tr>\n",
       "      <th>4</th>\n",
       "      <td>1439408</td>\n",
       "      <td>2632</td>\n",
       "      <td>8591.0</td>\n",
       "      <td>20:1</td>\n",
       "      <td>0.0</td>\n",
       "      <td>20160613.0</td>\n",
       "      <td>NaN</td>\n",
       "    </tr>\n",
       "  </tbody>\n",
       "</table>\n",
       "</div>"
      ],
      "text/plain": [
       "   User_id  Merchant_id  Coupon_id Discount_rate  Distance  Date_received  \\\n",
       "0  1439408         2632        NaN           NaN       0.0            NaN   \n",
       "1  1439408         4663    11002.0        150:20       1.0     20160528.0   \n",
       "2  1439408         2632     8591.0          20:1       0.0     20160217.0   \n",
       "3  1439408         2632     1078.0          20:1       0.0     20160319.0   \n",
       "4  1439408         2632     8591.0          20:1       0.0     20160613.0   \n",
       "\n",
       "         Date  \n",
       "0  20160217.0  \n",
       "1         NaN  \n",
       "2         NaN  \n",
       "3         NaN  \n",
       "4         NaN  "
      ]
     },
     "execution_count": 81,
     "metadata": {},
     "output_type": "execute_result"
    }
   ],
   "source": [
    "data.head()"
   ]
  },
  {
   "cell_type": "code",
   "execution_count": 82,
   "id": "66bcb87a",
   "metadata": {
    "scrolled": true
   },
   "outputs": [
    {
     "data": {
      "text/plain": [
       "NaN        701602\n",
       "30:5       270712\n",
       "100:10     182554\n",
       "200:20     111046\n",
       "20:5        91013\n",
       "20:1        51705\n",
       "50:5        47379\n",
       "100:30      38196\n",
       "200:30      29327\n",
       "300:30      28979\n",
       "50:10       28452\n",
       "10:5        25925\n",
       "0.95        20568\n",
       "10:1        17842\n",
       "30:1        17654\n",
       "150:20      17437\n",
       "100:20      14297\n",
       "30:10       12692\n",
       "50:20        8203\n",
       "0.9          8085\n",
       "200:50       5585\n",
       "150:10       5325\n",
       "100:5        5053\n",
       "0.8          3441\n",
       "50:1         3354\n",
       "5:1          2526\n",
       "100:50       1774\n",
       "150:30        654\n",
       "0.85          649\n",
       "200:10        575\n",
       "100:1         537\n",
       "20:10         514\n",
       "150:50        306\n",
       "300:50        206\n",
       "0.5           186\n",
       "0.75          121\n",
       "0.2           110\n",
       "0.6            58\n",
       "200:5          57\n",
       "300:20         56\n",
       "0.7            54\n",
       "30:20          24\n",
       "300:10         23\n",
       "200:100        12\n",
       "50:30           9\n",
       "150:5           7\n",
       "Name: Discount_rate, dtype: int64"
      ]
     },
     "execution_count": 82,
     "metadata": {},
     "output_type": "execute_result"
    }
   ],
   "source": [
    "data['Discount_rate'].value_counts(dropna=False)"
   ]
  },
  {
   "cell_type": "code",
   "execution_count": 83,
   "id": "80490ecc",
   "metadata": {
    "scrolled": true
   },
   "outputs": [
    {
     "data": {
      "text/plain": [
       "<AxesSubplot:>"
      ]
     },
     "execution_count": 83,
     "metadata": {},
     "output_type": "execute_result"
    },
    {
     "data": {
      "image/png": "[encoded data removed]",
      "text/plain": [
       "<Figure size 1080x576 with 1 Axes>"
      ]
     },
     "metadata": {
      "needs_background": "light"
     },
     "output_type": "display_data"
    }
   ],
   "source": [
    "data['Discount_rate'].value_counts(dropna=False).plot.bar(figsize=(15,8))"
   ]
  },
  {
   "cell_type": "code",
   "execution_count": 84,
   "id": "f55e90b3",
   "metadata": {},
   "outputs": [
    {
     "data": {
      "text/plain": [
       "0.0     826070\n",
       "1.0     227221\n",
       "2.0     118413\n",
       "3.0      76598\n",
       "4.0      55085\n",
       "5.0      41452\n",
       "6.0      32483\n",
       "7.0      25681\n",
       "8.0      21436\n",
       "9.0      17958\n",
       "10.0    206484\n",
       "Name: Distance, dtype: int64"
      ]
     },
     "execution_count": 84,
     "metadata": {},
     "output_type": "execute_result"
    }
   ],
   "source": [
    "data['Distance'].value_counts().sort_index()"
   ]
  },
  {
   "cell_type": "code",
   "execution_count": 85,
   "id": "8619f966",
   "metadata": {},
   "outputs": [
    {
     "data": {
      "text/plain": [
       "<AxesSubplot:>"
      ]
     },
     "execution_count": 85,
     "metadata": {},
     "output_type": "execute_result"
    },
    {
     "data": {
      "image/png": "[encoded data removed]",
      "text/plain": [
       "<Figure size 1080x504 with 1 Axes>"
      ]
     },
     "metadata": {
      "needs_background": "light"
     },
     "output_type": "display_data"
    }
   ],
   "source": [
    "data['Distance'].value_counts().sort_index().plot(figsize=(15,7))"
   ]
  },
  {
   "cell_type": "markdown",
   "id": "488c8f1f",
   "metadata": {},
   "source": [
    " ## 2. data preparation \n",
    " ### Data cleaning, data type transfermation, data grouping"
   ]
  },
  {
   "cell_type": "code",
   "execution_count": 86,
   "id": "ab87396a",
   "metadata": {},
   "outputs": [
    {
     "data": {
      "text/plain": [
       "0         2016-02-17\n",
       "1                NaT\n",
       "2                NaT\n",
       "3                NaT\n",
       "4                NaT\n",
       "             ...    \n",
       "1754879   2016-03-22\n",
       "1754880   2016-06-02\n",
       "1754881   2016-03-21\n",
       "1754882          NaT\n",
       "1754883          NaT\n",
       "Name: Date, Length: 1754884, dtype: datetime64[ns]"
      ]
     },
     "execution_count": 86,
     "metadata": {},
     "output_type": "execute_result"
    }
   ],
   "source": [
    "data['Date']=pd.to_datetime(data['Date'],format='%Y%m%d')\n",
    "data['Date']"
   ]
  },
  {
   "cell_type": "code",
   "execution_count": 87,
   "id": "0c7a747e",
   "metadata": {},
   "outputs": [
    {
     "data": {
      "text/plain": [
       "0                NaT\n",
       "1         2016-05-28\n",
       "2         2016-02-17\n",
       "3         2016-03-19\n",
       "4         2016-06-13\n",
       "             ...    \n",
       "1754879          NaT\n",
       "1754880   2016-05-08\n",
       "1754881          NaT\n",
       "1754882   2016-06-13\n",
       "1754883   2016-05-23\n",
       "Name: Date_received, Length: 1754884, dtype: datetime64[ns]"
      ]
     },
     "execution_count": 87,
     "metadata": {},
     "output_type": "execute_result"
    }
   ],
   "source": [
    "data['Date_received']=pd.to_datetime(data['Date_received'],format='%Y%m%d')\n",
    "data['Date_received']"
   ]
  },
  {
   "cell_type": "code",
   "execution_count": 88,
   "id": "331154ec",
   "metadata": {},
   "outputs": [
    {
     "name": "stdout",
     "output_type": "stream",
     "text": [
      "This data starts from 2016-01-01 00:00:00, and ends at 2016-06-30 00:00:00\n"
     ]
    }
   ],
   "source": [
    "print(f\"This data starts from {data['Date'].min()}, and ends at {data['Date'].max()}\")"
   ]
  },
  {
   "cell_type": "code",
   "execution_count": 89,
   "id": "dadcc752",
   "metadata": {
    "scrolled": true
   },
   "outputs": [
    {
     "name": "stdout",
     "output_type": "stream",
     "text": [
      "Customers receving coupons starts from 2016-01-01 00:00:00, and ends at 2016-06-15 00:00:00\n"
     ]
    }
   ],
   "source": [
    "print(f\"Customers receving coupons starts from {data['Date_received'].min()}, and ends at {data['Date_received'].max()}\")"
   ]
  },
  {
   "cell_type": "code",
   "execution_count": 90,
   "id": "7fdff2aa",
   "metadata": {},
   "outputs": [
    {
     "data": {
      "text/plain": [
       "<AxesSubplot:>"
      ]
     },
     "execution_count": 90,
     "metadata": {},
     "output_type": "execute_result"
    },
    {
     "data": {
      "image/png": "[encoded data removed]",
      "text/plain": [
       "<Figure size 1080x504 with 1 Axes>"
      ]
     },
     "metadata": {
      "needs_background": "light"
     },
     "output_type": "display_data"
    }
   ],
   "source": [
    "data['Date'].value_counts().plot(figsize=(15,7))"
   ]
  },
  {
   "cell_type": "code",
   "execution_count": 91,
   "id": "8aecc308",
   "metadata": {
    "scrolled": false
   },
   "outputs": [
    {
     "data": {
      "text/plain": [
       "<AxesSubplot:>"
      ]
     },
     "execution_count": 91,
     "metadata": {},
     "output_type": "execute_result"
    },
    {
     "data": {
      "image/png": "[encoded data removed]",
      "text/plain": [
       "<Figure size 1080x576 with 1 Axes>"
      ]
     },
     "metadata": {
      "needs_background": "light"
     },
     "output_type": "display_data"
    }
   ],
   "source": [
    "data['Date_received'].value_counts().plot(figsize=(15,8))"
   ]
  },
  {
   "cell_type": "code",
   "execution_count": 92,
   "id": "409998b7",
   "metadata": {},
   "outputs": [
    {
     "data": {
      "text/html": [
       "<div>\n",
       "<style scoped>\n",
       "    .dataframe tbody tr th:only-of-type {\n",
       "        vertical-align: middle;\n",
       "    }\n",
       "\n",
       "    .dataframe tbody tr th {\n",
       "        vertical-align: top;\n",
       "    }\n",
       "\n",
       "    .dataframe thead th {\n",
       "        text-align: right;\n",
       "    }\n",
       "</style>\n",
       "<table border=\"1\" class=\"dataframe\">\n",
       "  <thead>\n",
       "    <tr style=\"text-align: right;\">\n",
       "      <th></th>\n",
       "      <th>User_id</th>\n",
       "      <th>Merchant_id</th>\n",
       "      <th>Coupon_id</th>\n",
       "      <th>Discount_rate</th>\n",
       "      <th>Distance</th>\n",
       "      <th>Date_received</th>\n",
       "      <th>Date</th>\n",
       "    </tr>\n",
       "  </thead>\n",
       "  <tbody>\n",
       "    <tr>\n",
       "      <th>0</th>\n",
       "      <td>1439408</td>\n",
       "      <td>2632</td>\n",
       "      <td>NaN</td>\n",
       "      <td>NaN</td>\n",
       "      <td>0.0</td>\n",
       "      <td>NaT</td>\n",
       "      <td>2016-02-17</td>\n",
       "    </tr>\n",
       "    <tr>\n",
       "      <th>1</th>\n",
       "      <td>1439408</td>\n",
       "      <td>4663</td>\n",
       "      <td>11002.0</td>\n",
       "      <td>150:20</td>\n",
       "      <td>1.0</td>\n",
       "      <td>2016-05-28</td>\n",
       "      <td>NaT</td>\n",
       "    </tr>\n",
       "    <tr>\n",
       "      <th>2</th>\n",
       "      <td>1439408</td>\n",
       "      <td>2632</td>\n",
       "      <td>8591.0</td>\n",
       "      <td>20:1</td>\n",
       "      <td>0.0</td>\n",
       "      <td>2016-02-17</td>\n",
       "      <td>NaT</td>\n",
       "    </tr>\n",
       "    <tr>\n",
       "      <th>3</th>\n",
       "      <td>1439408</td>\n",
       "      <td>2632</td>\n",
       "      <td>1078.0</td>\n",
       "      <td>20:1</td>\n",
       "      <td>0.0</td>\n",
       "      <td>2016-03-19</td>\n",
       "      <td>NaT</td>\n",
       "    </tr>\n",
       "    <tr>\n",
       "      <th>4</th>\n",
       "      <td>1439408</td>\n",
       "      <td>2632</td>\n",
       "      <td>8591.0</td>\n",
       "      <td>20:1</td>\n",
       "      <td>0.0</td>\n",
       "      <td>2016-06-13</td>\n",
       "      <td>NaT</td>\n",
       "    </tr>\n",
       "    <tr>\n",
       "      <th>5</th>\n",
       "      <td>1439408</td>\n",
       "      <td>2632</td>\n",
       "      <td>NaN</td>\n",
       "      <td>NaN</td>\n",
       "      <td>0.0</td>\n",
       "      <td>NaT</td>\n",
       "      <td>2016-05-16</td>\n",
       "    </tr>\n",
       "    <tr>\n",
       "      <th>6</th>\n",
       "      <td>1439408</td>\n",
       "      <td>2632</td>\n",
       "      <td>8591.0</td>\n",
       "      <td>20:1</td>\n",
       "      <td>0.0</td>\n",
       "      <td>2016-05-16</td>\n",
       "      <td>2016-06-13</td>\n",
       "    </tr>\n",
       "    <tr>\n",
       "      <th>7</th>\n",
       "      <td>1832624</td>\n",
       "      <td>3381</td>\n",
       "      <td>7610.0</td>\n",
       "      <td>200:20</td>\n",
       "      <td>0.0</td>\n",
       "      <td>2016-04-29</td>\n",
       "      <td>NaT</td>\n",
       "    </tr>\n",
       "    <tr>\n",
       "      <th>8</th>\n",
       "      <td>2029232</td>\n",
       "      <td>3381</td>\n",
       "      <td>11951.0</td>\n",
       "      <td>200:20</td>\n",
       "      <td>1.0</td>\n",
       "      <td>2016-01-29</td>\n",
       "      <td>NaT</td>\n",
       "    </tr>\n",
       "    <tr>\n",
       "      <th>9</th>\n",
       "      <td>2029232</td>\n",
       "      <td>450</td>\n",
       "      <td>1532.0</td>\n",
       "      <td>30:5</td>\n",
       "      <td>0.0</td>\n",
       "      <td>2016-05-30</td>\n",
       "      <td>NaT</td>\n",
       "    </tr>\n",
       "    <tr>\n",
       "      <th>10</th>\n",
       "      <td>2029232</td>\n",
       "      <td>6459</td>\n",
       "      <td>12737.0</td>\n",
       "      <td>20:1</td>\n",
       "      <td>0.0</td>\n",
       "      <td>2016-05-19</td>\n",
       "      <td>NaT</td>\n",
       "    </tr>\n",
       "    <tr>\n",
       "      <th>11</th>\n",
       "      <td>2029232</td>\n",
       "      <td>6459</td>\n",
       "      <td>NaN</td>\n",
       "      <td>NaN</td>\n",
       "      <td>0.0</td>\n",
       "      <td>NaT</td>\n",
       "      <td>2016-06-26</td>\n",
       "    </tr>\n",
       "    <tr>\n",
       "      <th>12</th>\n",
       "      <td>2029232</td>\n",
       "      <td>6459</td>\n",
       "      <td>NaN</td>\n",
       "      <td>NaN</td>\n",
       "      <td>0.0</td>\n",
       "      <td>NaT</td>\n",
       "      <td>2016-05-19</td>\n",
       "    </tr>\n",
       "    <tr>\n",
       "      <th>13</th>\n",
       "      <td>2747744</td>\n",
       "      <td>6901</td>\n",
       "      <td>1097.0</td>\n",
       "      <td>50:10</td>\n",
       "      <td>NaN</td>\n",
       "      <td>2016-06-06</td>\n",
       "      <td>NaT</td>\n",
       "    </tr>\n",
       "    <tr>\n",
       "      <th>14</th>\n",
       "      <td>196342</td>\n",
       "      <td>1579</td>\n",
       "      <td>NaN</td>\n",
       "      <td>NaN</td>\n",
       "      <td>1.0</td>\n",
       "      <td>NaT</td>\n",
       "      <td>2016-06-06</td>\n",
       "    </tr>\n",
       "    <tr>\n",
       "      <th>15</th>\n",
       "      <td>196342</td>\n",
       "      <td>1579</td>\n",
       "      <td>10698.0</td>\n",
       "      <td>20:1</td>\n",
       "      <td>1.0</td>\n",
       "      <td>2016-06-06</td>\n",
       "      <td>NaT</td>\n",
       "    </tr>\n",
       "    <tr>\n",
       "      <th>16</th>\n",
       "      <td>2223968</td>\n",
       "      <td>3381</td>\n",
       "      <td>9776.0</td>\n",
       "      <td>10:5</td>\n",
       "      <td>2.0</td>\n",
       "      <td>2016-01-29</td>\n",
       "      <td>NaT</td>\n",
       "    </tr>\n",
       "    <tr>\n",
       "      <th>17</th>\n",
       "      <td>73611</td>\n",
       "      <td>2099</td>\n",
       "      <td>12034.0</td>\n",
       "      <td>100:10</td>\n",
       "      <td>NaN</td>\n",
       "      <td>2016-02-07</td>\n",
       "      <td>NaT</td>\n",
       "    </tr>\n",
       "    <tr>\n",
       "      <th>18</th>\n",
       "      <td>163606</td>\n",
       "      <td>1569</td>\n",
       "      <td>5054.0</td>\n",
       "      <td>200:30</td>\n",
       "      <td>10.0</td>\n",
       "      <td>2016-04-21</td>\n",
       "      <td>NaT</td>\n",
       "    </tr>\n",
       "    <tr>\n",
       "      <th>19</th>\n",
       "      <td>3273056</td>\n",
       "      <td>4833</td>\n",
       "      <td>7802.0</td>\n",
       "      <td>200:20</td>\n",
       "      <td>10.0</td>\n",
       "      <td>2016-01-30</td>\n",
       "      <td>NaT</td>\n",
       "    </tr>\n",
       "  </tbody>\n",
       "</table>\n",
       "</div>"
      ],
      "text/plain": [
       "    User_id  Merchant_id  Coupon_id Discount_rate  Distance Date_received  \\\n",
       "0   1439408         2632        NaN           NaN       0.0           NaT   \n",
       "1   1439408         4663    11002.0        150:20       1.0    2016-05-28   \n",
       "2   1439408         2632     8591.0          20:1       0.0    2016-02-17   \n",
       "3   1439408         2632     1078.0          20:1       0.0    2016-03-19   \n",
       "4   1439408         2632     8591.0          20:1       0.0    2016-06-13   \n",
       "5   1439408         2632        NaN           NaN       0.0           NaT   \n",
       "6   1439408         2632     8591.0          20:1       0.0    2016-05-16   \n",
       "7   1832624         3381     7610.0        200:20       0.0    2016-04-29   \n",
       "8   2029232         3381    11951.0        200:20       1.0    2016-01-29   \n",
       "9   2029232          450     1532.0          30:5       0.0    2016-05-30   \n",
       "10  2029232         6459    12737.0          20:1       0.0    2016-05-19   \n",
       "11  2029232         6459        NaN           NaN       0.0           NaT   \n",
       "12  2029232         6459        NaN           NaN       0.0           NaT   \n",
       "13  2747744         6901     1097.0         50:10       NaN    2016-06-06   \n",
       "14   196342         1579        NaN           NaN       1.0           NaT   \n",
       "15   196342         1579    10698.0          20:1       1.0    2016-06-06   \n",
       "16  2223968         3381     9776.0          10:5       2.0    2016-01-29   \n",
       "17    73611         2099    12034.0        100:10       NaN    2016-02-07   \n",
       "18   163606         1569     5054.0        200:30      10.0    2016-04-21   \n",
       "19  3273056         4833     7802.0        200:20      10.0    2016-01-30   \n",
       "\n",
       "         Date  \n",
       "0  2016-02-17  \n",
       "1         NaT  \n",
       "2         NaT  \n",
       "3         NaT  \n",
       "4         NaT  \n",
       "5  2016-05-16  \n",
       "6  2016-06-13  \n",
       "7         NaT  \n",
       "8         NaT  \n",
       "9         NaT  \n",
       "10        NaT  \n",
       "11 2016-06-26  \n",
       "12 2016-05-19  \n",
       "13        NaT  \n",
       "14 2016-06-06  \n",
       "15        NaT  \n",
       "16        NaT  \n",
       "17        NaT  \n",
       "18        NaT  \n",
       "19        NaT  "
      ]
     },
     "execution_count": 92,
     "metadata": {},
     "output_type": "execute_result"
    }
   ],
   "source": [
    "data.head(20)"
   ]
  },
  {
   "cell_type": "code",
   "execution_count": 93,
   "id": "3426d2a3",
   "metadata": {},
   "outputs": [
    {
     "data": {
      "text/html": [
       "<div>\n",
       "<style scoped>\n",
       "    .dataframe tbody tr th:only-of-type {\n",
       "        vertical-align: middle;\n",
       "    }\n",
       "\n",
       "    .dataframe tbody tr th {\n",
       "        vertical-align: top;\n",
       "    }\n",
       "\n",
       "    .dataframe thead th {\n",
       "        text-align: right;\n",
       "    }\n",
       "</style>\n",
       "<table border=\"1\" class=\"dataframe\">\n",
       "  <thead>\n",
       "    <tr style=\"text-align: right;\">\n",
       "      <th></th>\n",
       "      <th>User_id</th>\n",
       "      <th>Merchant_id</th>\n",
       "      <th>Coupon_id</th>\n",
       "      <th>Discount_rate</th>\n",
       "      <th>Distance</th>\n",
       "      <th>Date_received</th>\n",
       "      <th>Date</th>\n",
       "    </tr>\n",
       "  </thead>\n",
       "  <tbody>\n",
       "    <tr>\n",
       "      <th>0</th>\n",
       "      <td>1439408</td>\n",
       "      <td>2632</td>\n",
       "      <td>NaN</td>\n",
       "      <td>null</td>\n",
       "      <td>0.0</td>\n",
       "      <td>NaT</td>\n",
       "      <td>2016-02-17</td>\n",
       "    </tr>\n",
       "    <tr>\n",
       "      <th>1</th>\n",
       "      <td>1439408</td>\n",
       "      <td>4663</td>\n",
       "      <td>11002.0</td>\n",
       "      <td>150:20</td>\n",
       "      <td>1.0</td>\n",
       "      <td>2016-05-28</td>\n",
       "      <td>NaT</td>\n",
       "    </tr>\n",
       "    <tr>\n",
       "      <th>2</th>\n",
       "      <td>1439408</td>\n",
       "      <td>2632</td>\n",
       "      <td>8591.0</td>\n",
       "      <td>20:1</td>\n",
       "      <td>0.0</td>\n",
       "      <td>2016-02-17</td>\n",
       "      <td>NaT</td>\n",
       "    </tr>\n",
       "    <tr>\n",
       "      <th>3</th>\n",
       "      <td>1439408</td>\n",
       "      <td>2632</td>\n",
       "      <td>1078.0</td>\n",
       "      <td>20:1</td>\n",
       "      <td>0.0</td>\n",
       "      <td>2016-03-19</td>\n",
       "      <td>NaT</td>\n",
       "    </tr>\n",
       "    <tr>\n",
       "      <th>4</th>\n",
       "      <td>1439408</td>\n",
       "      <td>2632</td>\n",
       "      <td>8591.0</td>\n",
       "      <td>20:1</td>\n",
       "      <td>0.0</td>\n",
       "      <td>2016-06-13</td>\n",
       "      <td>NaT</td>\n",
       "    </tr>\n",
       "  </tbody>\n",
       "</table>\n",
       "</div>"
      ],
      "text/plain": [
       "   User_id  Merchant_id  Coupon_id Discount_rate  Distance Date_received  \\\n",
       "0  1439408         2632        NaN          null       0.0           NaT   \n",
       "1  1439408         4663    11002.0        150:20       1.0    2016-05-28   \n",
       "2  1439408         2632     8591.0          20:1       0.0    2016-02-17   \n",
       "3  1439408         2632     1078.0          20:1       0.0    2016-03-19   \n",
       "4  1439408         2632     8591.0          20:1       0.0    2016-06-13   \n",
       "\n",
       "        Date  \n",
       "0 2016-02-17  \n",
       "1        NaT  \n",
       "2        NaT  \n",
       "3        NaT  \n",
       "4        NaT  "
      ]
     },
     "execution_count": 93,
     "metadata": {},
     "output_type": "execute_result"
    }
   ],
   "source": [
    "data['Discount_rate']=data['Discount_rate'].fillna('null')\n",
    "data.head()"
   ]
  },
  {
   "cell_type": "markdown",
   "id": "f8735c7d",
   "metadata": {},
   "source": [
    "###   caculate discount rate"
   ]
  },
  {
   "cell_type": "code",
   "execution_count": 94,
   "id": "13c0ca39",
   "metadata": {},
   "outputs": [],
   "source": [
    "def discount_rate_opt(s):\n",
    "    if ':' in s:\n",
    "        split=s.split(':')\n",
    "        discount_rate=(int(split[0])-int(split[1]))/int(split[0])\n",
    "        return round(discount_rate,2)\n",
    "    elif s=='null':\n",
    "        return np.NaN\n",
    "    else:\n",
    "        return float(s)"
   ]
  },
  {
   "cell_type": "code",
   "execution_count": 95,
   "id": "5f894522",
   "metadata": {},
   "outputs": [
    {
     "data": {
      "text/html": [
       "<div>\n",
       "<style scoped>\n",
       "    .dataframe tbody tr th:only-of-type {\n",
       "        vertical-align: middle;\n",
       "    }\n",
       "\n",
       "    .dataframe tbody tr th {\n",
       "        vertical-align: top;\n",
       "    }\n",
       "\n",
       "    .dataframe thead th {\n",
       "        text-align: right;\n",
       "    }\n",
       "</style>\n",
       "<table border=\"1\" class=\"dataframe\">\n",
       "  <thead>\n",
       "    <tr style=\"text-align: right;\">\n",
       "      <th></th>\n",
       "      <th>User_id</th>\n",
       "      <th>Merchant_id</th>\n",
       "      <th>Coupon_id</th>\n",
       "      <th>Discount_rate</th>\n",
       "      <th>Distance</th>\n",
       "      <th>Date_received</th>\n",
       "      <th>Date</th>\n",
       "    </tr>\n",
       "  </thead>\n",
       "  <tbody>\n",
       "    <tr>\n",
       "      <th>0</th>\n",
       "      <td>1439408</td>\n",
       "      <td>2632</td>\n",
       "      <td>NaN</td>\n",
       "      <td>NaN</td>\n",
       "      <td>0.0</td>\n",
       "      <td>NaT</td>\n",
       "      <td>2016-02-17</td>\n",
       "    </tr>\n",
       "    <tr>\n",
       "      <th>1</th>\n",
       "      <td>1439408</td>\n",
       "      <td>4663</td>\n",
       "      <td>11002.0</td>\n",
       "      <td>0.87</td>\n",
       "      <td>1.0</td>\n",
       "      <td>2016-05-28</td>\n",
       "      <td>NaT</td>\n",
       "    </tr>\n",
       "    <tr>\n",
       "      <th>2</th>\n",
       "      <td>1439408</td>\n",
       "      <td>2632</td>\n",
       "      <td>8591.0</td>\n",
       "      <td>0.95</td>\n",
       "      <td>0.0</td>\n",
       "      <td>2016-02-17</td>\n",
       "      <td>NaT</td>\n",
       "    </tr>\n",
       "    <tr>\n",
       "      <th>3</th>\n",
       "      <td>1439408</td>\n",
       "      <td>2632</td>\n",
       "      <td>1078.0</td>\n",
       "      <td>0.95</td>\n",
       "      <td>0.0</td>\n",
       "      <td>2016-03-19</td>\n",
       "      <td>NaT</td>\n",
       "    </tr>\n",
       "    <tr>\n",
       "      <th>4</th>\n",
       "      <td>1439408</td>\n",
       "      <td>2632</td>\n",
       "      <td>8591.0</td>\n",
       "      <td>0.95</td>\n",
       "      <td>0.0</td>\n",
       "      <td>2016-06-13</td>\n",
       "      <td>NaT</td>\n",
       "    </tr>\n",
       "  </tbody>\n",
       "</table>\n",
       "</div>"
      ],
      "text/plain": [
       "   User_id  Merchant_id  Coupon_id  Discount_rate  Distance Date_received  \\\n",
       "0  1439408         2632        NaN            NaN       0.0           NaT   \n",
       "1  1439408         4663    11002.0           0.87       1.0    2016-05-28   \n",
       "2  1439408         2632     8591.0           0.95       0.0    2016-02-17   \n",
       "3  1439408         2632     1078.0           0.95       0.0    2016-03-19   \n",
       "4  1439408         2632     8591.0           0.95       0.0    2016-06-13   \n",
       "\n",
       "        Date  \n",
       "0 2016-02-17  \n",
       "1        NaT  \n",
       "2        NaT  \n",
       "3        NaT  \n",
       "4        NaT  "
      ]
     },
     "execution_count": 95,
     "metadata": {},
     "output_type": "execute_result"
    }
   ],
   "source": [
    "data['Discount_rate']=data['Discount_rate'].map(discount_rate_opt)\n",
    "data.head()"
   ]
  },
  {
   "cell_type": "markdown",
   "id": "c839aab7",
   "metadata": {},
   "source": [
    "### if Coupon_id equals null, it means no coupon was used in transaction. If so, consequencely, discount_rate and Date should be null as well"
   ]
  },
  {
   "cell_type": "code",
   "execution_count": 96,
   "id": "25e504c1",
   "metadata": {},
   "outputs": [
    {
     "data": {
      "text/plain": [
       "True"
      ]
     },
     "execution_count": 96,
     "metadata": {},
     "output_type": "execute_result"
    }
   ],
   "source": [
    "nan1=data['Coupon_id'].isnull() #identify whether the value of Coupon_id is null\n",
    "nan2=data['Date_received'].isnull()  #identify whether the value of Date_received is null\n",
    "np.all(nan1==nan2) # if result= True, it demonstrates that the relation between Coupon_id and Data_received occur synonymously"
   ]
  },
  {
   "cell_type": "code",
   "execution_count": 97,
   "id": "47a00087",
   "metadata": {},
   "outputs": [
    {
     "data": {
      "text/plain": [
       "True"
      ]
     },
     "execution_count": 97,
     "metadata": {},
     "output_type": "execute_result"
    }
   ],
   "source": [
    "nan3=data['Discount_rate'].isnull() \n",
    "np.all(nan1==nan3)"
   ]
  },
  {
   "cell_type": "markdown",
   "id": "8ff2dce2",
   "metadata": {},
   "source": [
    "## 3. four scenarios:\n",
    "### If Date=null & Coupon_id!= null, customers with coupon but haven't redeemed(nor_cpon_no_consume)\n",
    "### If Date=null & Coupon_id= null, customers don't have order who don't have coupon(nor_consume)\n",
    "###  If Date!=null & Coupon_id =null, customers consumed but without a coupon(no_cpon_consume)\n",
    "### Date!=null & Coupon_id!=null, customers redeemed their coupon for purchasing(cpon_consume)"
   ]
  },
  {
   "cell_type": "code",
   "execution_count": 98,
   "id": "59ab2bca",
   "metadata": {},
   "outputs": [
    {
     "data": {
      "text/plain": [
       "(977900, 7)"
      ]
     },
     "execution_count": 98,
     "metadata": {},
     "output_type": "execute_result"
    }
   ],
   "source": [
    "cpon_no_consume=data[data['Date'].isnull() & data['Coupon_id'].notnull()]\n",
    "cpon_no_consume.shape"
   ]
  },
  {
   "cell_type": "code",
   "execution_count": 99,
   "id": "63a0685f",
   "metadata": {},
   "outputs": [
    {
     "data": {
      "text/plain": [
       "(0, 7)"
      ]
     },
     "execution_count": 99,
     "metadata": {},
     "output_type": "execute_result"
    }
   ],
   "source": [
    "nor_consume=data[data['Date'].isnull() & data['Coupon_id'].isnull()]\n",
    "nor_consume.shape"
   ]
  },
  {
   "cell_type": "code",
   "execution_count": 100,
   "id": "336c7936",
   "metadata": {},
   "outputs": [
    {
     "data": {
      "text/plain": [
       "(701602, 7)"
      ]
     },
     "execution_count": 100,
     "metadata": {},
     "output_type": "execute_result"
    }
   ],
   "source": [
    "no_cpon_consume=data[data['Date'].notnull() & data['Coupon_id'].isnull()]\n",
    "no_cpon_consume.shape"
   ]
  },
  {
   "cell_type": "code",
   "execution_count": 101,
   "id": "b76ce986",
   "metadata": {},
   "outputs": [
    {
     "data": {
      "text/plain": [
       "(75382, 7)"
      ]
     },
     "execution_count": 101,
     "metadata": {},
     "output_type": "execute_result"
    }
   ],
   "source": [
    "cpon_consume=data[data['Date'].notnull()& data['Coupon_id'].notnull()]\n",
    "cpon_consume.shape"
   ]
  },
  {
   "cell_type": "code",
   "execution_count": 102,
   "id": "3464067d",
   "metadata": {},
   "outputs": [
    {
     "data": {
      "text/plain": [
       "0.09701872882839287"
      ]
     },
     "execution_count": 102,
     "metadata": {},
     "output_type": "execute_result"
    }
   ],
   "source": [
    "cpon_consume.shape[0]/(no_cpon_consume.shape[0]+cpon_consume.shape[0])"
   ]
  },
  {
   "cell_type": "code",
   "execution_count": 103,
   "id": "43419c53",
   "metadata": {},
   "outputs": [
    {
     "data": {
      "text/plain": [
       "0.07156867771404049"
      ]
     },
     "execution_count": 103,
     "metadata": {},
     "output_type": "execute_result"
    }
   ],
   "source": [
    "cpon_consume.shape[0]/(cpon_consume.shape[0]+cpon_no_consume.shape[0])"
   ]
  },
  {
   "cell_type": "markdown",
   "id": "b03e9cd3",
   "metadata": {},
   "source": [
    " ### Insight: coupon consumption accounts for 9.7% of total consumption. However, only 7.16 percent of coupons were redeemed "
   ]
  },
  {
   "cell_type": "code",
   "execution_count": 104,
   "id": "d650e644",
   "metadata": {},
   "outputs": [],
   "source": [
    "consume_status_dict={'cpon_no_consume':len(cpon_no_consume),'cpon_consume':len(cpon_consume),'no_cpon_consume':len(no_cpon_consume)}\n",
    "consume_status=pd.Series(consume_status_dict)"
   ]
  },
  {
   "cell_type": "code",
   "execution_count": 105,
   "id": "b3cf71a2",
   "metadata": {},
   "outputs": [
    {
     "data": {
      "text/plain": [
       "<matplotlib.legend.Legend at 0x27000083bb0>"
      ]
     },
     "execution_count": 105,
     "metadata": {},
     "output_type": "execute_result"
    },
    {
     "data": {
      "image/png": "[encoded data removed]",
      "text/plain": [
       "<Figure size 576x864 with 1 Axes>"
      ]
     },
     "metadata": {},
     "output_type": "display_data"
    }
   ],
   "source": [
    "# pie chart of consumption\n",
    "fx,ax=plt.subplots(1,1,figsize=(8,12))\n",
    "consume_status.plot.pie(ax=ax,\n",
    "                       autopct='%1.1f%%',\n",
    "                       shadow=True,\n",
    "                       explode=[0.02,0.05,0.12],\n",
    "                       textprops={'fontsize':15,'color':'blue'},\n",
    "                       wedgeprops={'linewidth':1,'edgecolor':'black'},\n",
    "                       labels=['Coupon No Consumption \\n({})'.format(len(cpon_no_consume)),\n",
    "                              'Coupon Consumption \\n({})'.format(len(cpon_consume)),\n",
    "                              'Consumption Without Coupon \\n({})'.format(len(no_cpon_consume))])\n",
    "ax.set_ylabel('')\n",
    "plt.legend(labels=['Coupon No Consumption', 'Coupon Consumption','Consumption Without Coupon'])\n",
    "# ax.set_title('Pie Chart for Consume Status')"
   ]
  },
  {
   "cell_type": "markdown",
   "id": "1eb13aaf",
   "metadata": {},
   "source": [
    "## 4. Data Analysis"
   ]
  },
  {
   "cell_type": "markdown",
   "id": "af2e87a7",
   "metadata": {},
   "source": [
    "### 4.1 relation between Coupon consumption and distance "
   ]
  },
  {
   "cell_type": "code",
   "execution_count": 106,
   "id": "ddb6a9c5",
   "metadata": {},
   "outputs": [
    {
     "data": {
      "text/plain": [
       "Merchant_id\n",
       "3       0.000000\n",
       "4       0.000000\n",
       "5       1.000000\n",
       "13      0.000000\n",
       "14      0.000000\n",
       "          ...   \n",
       "8844    2.916667\n",
       "8849    0.000000\n",
       "8850    4.333333\n",
       "8852         NaN\n",
       "8856    0.000000\n",
       "Name: Distance, Length: 4076, dtype: float64"
      ]
     },
     "execution_count": 106,
     "metadata": {},
     "output_type": "execute_result"
    }
   ],
   "source": [
    "Merchant_distance=cpon_consume.groupby('Merchant_id')['Distance'].mean()\n",
    "Merchant_distance\n",
    "# there are 4076 merchants in the data"
   ]
  },
  {
   "cell_type": "code",
   "execution_count": 107,
   "id": "7dd56363",
   "metadata": {},
   "outputs": [
    {
     "data": {
      "text/plain": [
       "0.000000     1431\n",
       "1.000000      266\n",
       "2.000000      131\n",
       "10.000000     130\n",
       "3.000000      111\n",
       "             ... \n",
       "0.272498        1\n",
       "3.705882        1\n",
       "0.370370        1\n",
       "1.571429        1\n",
       "2.916667        1\n",
       "Name: Distance, Length: 514, dtype: int64"
      ]
     },
     "execution_count": 107,
     "metadata": {},
     "output_type": "execute_result"
    }
   ],
   "source": [
    "Merchant_distance.value_counts()\n",
    "# for custoemrs who redeemed coupon, 1431 out of 4076 were located within 500m"
   ]
  },
  {
   "cell_type": "code",
   "execution_count": 108,
   "id": "14864a77",
   "metadata": {
    "scrolled": true
   },
   "outputs": [
    {
     "data": {
      "text/plain": [
       "Merchant_id\n",
       "8124    0.20\n",
       "4111    0.20\n",
       "3557    0.20\n",
       "21      0.33\n",
       "6521    0.40\n",
       "        ... \n",
       "1287    0.99\n",
       "6031    0.99\n",
       "4314    0.99\n",
       "3287    0.99\n",
       "6531    0.99\n",
       "Name: Discount_rate, Length: 4076, dtype: float64"
      ]
     },
     "execution_count": 108,
     "metadata": {},
     "output_type": "execute_result"
    }
   ],
   "source": [
    "# discount rate investigation \n",
    "Merchant_discount_rate=cpon_consume.groupby('Merchant_id')['Discount_rate'].mean()\n",
    "Merchant_discount_rate.sort_values()"
   ]
  },
  {
   "cell_type": "code",
   "execution_count": 123,
   "id": "fd8e6cfb",
   "metadata": {
    "scrolled": true
   },
   "outputs": [
    {
     "data": {
      "text/plain": [
       "<AxesSubplot:>"
      ]
     },
     "execution_count": 123,
     "metadata": {},
     "output_type": "execute_result"
    },
    {
     "data": {
      "image/png": "[encoded data removed]",
      "text/plain": [
       "<Figure size 720x360 with 1 Axes>"
      ]
     },
     "metadata": {
      "needs_background": "light"
     },
     "output_type": "display_data"
    }
   ],
   "source": [
    "Merchant_discount_rate.hist(figsize=(10,5))"
   ]
  },
  {
   "cell_type": "code",
   "execution_count": 110,
   "id": "6c35797d",
   "metadata": {},
   "outputs": [
    {
     "data": {
      "text/plain": [
       "0.8847410562670556"
      ]
     },
     "execution_count": 110,
     "metadata": {},
     "output_type": "execute_result"
    }
   ],
   "source": [
    "Merchant_discount_rate.mean()"
   ]
  },
  {
   "cell_type": "markdown",
   "id": "6bfa51b5",
   "metadata": {},
   "source": [
    "### Average discount of 4076 stores is 0.88 "
   ]
  },
  {
   "cell_type": "code",
   "execution_count": 119,
   "id": "6ab9053c",
   "metadata": {},
   "outputs": [
    {
     "data": {
      "text/plain": [
       "Merchant_id\n",
       "5341    5653\n",
       "760     3140\n",
       "6485    3119\n",
       "3381    2487\n",
       "2099    1705\n",
       "2934    1611\n",
       "450     1461\n",
       "4142    1403\n",
       "7555    1353\n",
       "3532    1315\n",
       "Name: Coupon_id, dtype: int64"
      ]
     },
     "execution_count": 119,
     "metadata": {},
     "output_type": "execute_result"
    }
   ],
   "source": [
    "most_popular_merchant=cpon_consume.groupby('Merchant_id')['Coupon_id'].count().sort_values(ascending=False)\n",
    "most_popular_merchant[:10]"
   ]
  },
  {
   "cell_type": "code",
   "execution_count": 128,
   "id": "f1d752d6",
   "metadata": {},
   "outputs": [
    {
     "data": {
      "text/plain": [
       "Int64Index([5341, 760, 6485, 3381, 2099, 2934, 450, 4142, 7555, 3532], dtype='int64', name='Merchant_id')"
      ]
     },
     "execution_count": 128,
     "metadata": {},
     "output_type": "execute_result"
    }
   ],
   "source": [
    "most_popular_merchant[:10].index"
   ]
  },
  {
   "cell_type": "code",
   "execution_count": 134,
   "id": "01670237",
   "metadata": {
    "scrolled": false
   },
   "outputs": [
    {
     "data": {
      "text/plain": [
       "Text(0.5, 1.0, 'TOP 10 most popular coupon redeeming merchants')"
      ]
     },
     "execution_count": 134,
     "metadata": {},
     "output_type": "execute_result"
    },
    {
     "data": {
      "image/png": "[encoded data removed]",
      "text/plain": [
       "<Figure size 720x576 with 1 Axes>"
      ]
     },
     "metadata": {
      "needs_background": "light"
     },
     "output_type": "display_data"
    }
   ],
   "source": [
    "most_popular_merchant[:10].plot.bar(figsize=(10,8))\n",
    "plt.ylabel('Coupon Redeem Count')\n",
    "plt.title('TOP 10 most popular coupon redeeming merchants')"
   ]
  },
  {
   "cell_type": "code",
   "execution_count": 140,
   "id": "0ae80f7b",
   "metadata": {},
   "outputs": [
    {
     "data": {
      "text/plain": [
       "2324.7"
      ]
     },
     "execution_count": 140,
     "metadata": {},
     "output_type": "execute_result"
    }
   ],
   "source": [
    "most_popular_merchant[:10].mean()"
   ]
  },
  {
   "cell_type": "markdown",
   "id": "9f90deb8",
   "metadata": {},
   "source": [
    "### Insight: Top 10 merchants have an average 2324.7 coupon being redeemed "
   ]
  },
  {
   "cell_type": "code",
   "execution_count": 137,
   "id": "d4564c8c",
   "metadata": {
    "scrolled": true
   },
   "outputs": [
    {
     "data": {
      "text/plain": [
       "Merchant_id\n",
       "5341    2800\n",
       "760     2627\n",
       "3381    2248\n",
       "6485    2029\n",
       "2099    1401\n",
       "        ... \n",
       "4227       1\n",
       "4213       1\n",
       "4209       1\n",
       "4204       1\n",
       "4439       1\n",
       "Name: User_id, Length: 4076, dtype: int64"
      ]
     },
     "execution_count": 137,
     "metadata": {},
     "output_type": "execute_result"
    }
   ],
   "source": [
    "cpon_consume_customer_ct=cpon_consume.groupby('Merchant_id')['User_id'].apply(lambda x:len(x.unique())).sort_values(ascending=False)\n",
    "cpon_consume_customer_ct\n"
   ]
  },
  {
   "cell_type": "code",
   "execution_count": 141,
   "id": "d1d4bcc9",
   "metadata": {},
   "outputs": [
    {
     "data": {
      "text/plain": [
       "1627.2"
      ]
     },
     "execution_count": 141,
     "metadata": {},
     "output_type": "execute_result"
    }
   ],
   "source": [
    "cpon_consume_customer_ct[:10].mean()"
   ]
  },
  {
   "cell_type": "markdown",
   "id": "62e67121",
   "metadata": {},
   "source": [
    "### Insight: Top 10 merchants have an average 1627.2 coupon customers "
   ]
  },
  {
   "cell_type": "code",
   "execution_count": 139,
   "id": "53306c6c",
   "metadata": {},
   "outputs": [
    {
     "data": {
      "text/plain": [
       "Text(0.5, 1.0, 'TOP 10 most popular coupon customers merchants')"
      ]
     },
     "execution_count": 139,
     "metadata": {},
     "output_type": "execute_result"
    },
    {
     "data": {
      "image/png": "[encoded data removed]",
      "text/plain": [
       "<Figure size 720x576 with 1 Axes>"
      ]
     },
     "metadata": {
      "needs_background": "light"
     },
     "output_type": "display_data"
    }
   ],
   "source": [
    "cpon_consume_customer_ct[:10].plot.bar(figsize=(10,8))\n",
    "plt.ylabel('Coupon Customer Count')\n",
    "plt.title('TOP 10 most popular coupon customers merchants')"
   ]
  },
  {
   "cell_type": "markdown",
   "id": "24fbb97d",
   "metadata": {},
   "source": [
    "### 4.2  Top 10 merchants and its distance and discount"
   ]
  },
  {
   "cell_type": "code",
   "execution_count": 147,
   "id": "0f962d53",
   "metadata": {
    "scrolled": true
   },
   "outputs": [],
   "source": [
    "merchant_pop_ds=pd.merge(left=cpon_consume_customer_ct[:16],right=Merchant_distance,on='Merchant_id',how='inner')"
   ]
  },
  {
   "cell_type": "code",
   "execution_count": 151,
   "id": "0cf6e130",
   "metadata": {
    "scrolled": false
   },
   "outputs": [
    {
     "data": {
      "text/html": [
       "<div>\n",
       "<style scoped>\n",
       "    .dataframe tbody tr th:only-of-type {\n",
       "        vertical-align: middle;\n",
       "    }\n",
       "\n",
       "    .dataframe tbody tr th {\n",
       "        vertical-align: top;\n",
       "    }\n",
       "\n",
       "    .dataframe thead th {\n",
       "        text-align: right;\n",
       "    }\n",
       "</style>\n",
       "<table border=\"1\" class=\"dataframe\">\n",
       "  <thead>\n",
       "    <tr style=\"text-align: right;\">\n",
       "      <th></th>\n",
       "      <th>Coupon_Ct</th>\n",
       "      <th>Distance</th>\n",
       "      <th>Discount</th>\n",
       "    </tr>\n",
       "    <tr>\n",
       "      <th>Merchant_id</th>\n",
       "      <th></th>\n",
       "      <th></th>\n",
       "      <th></th>\n",
       "    </tr>\n",
       "  </thead>\n",
       "  <tbody>\n",
       "    <tr>\n",
       "      <th>5341</th>\n",
       "      <td>5653</td>\n",
       "      <td>0.168598</td>\n",
       "      <td>0.826036</td>\n",
       "    </tr>\n",
       "    <tr>\n",
       "      <th>760</th>\n",
       "      <td>3140</td>\n",
       "      <td>0.349866</td>\n",
       "      <td>0.799873</td>\n",
       "    </tr>\n",
       "    <tr>\n",
       "      <th>6485</th>\n",
       "      <td>3119</td>\n",
       "      <td>0.368567</td>\n",
       "      <td>0.770439</td>\n",
       "    </tr>\n",
       "    <tr>\n",
       "      <th>3381</th>\n",
       "      <td>2487</td>\n",
       "      <td>1.652429</td>\n",
       "      <td>0.744150</td>\n",
       "    </tr>\n",
       "    <tr>\n",
       "      <th>2099</th>\n",
       "      <td>1705</td>\n",
       "      <td>0.968072</td>\n",
       "      <td>0.900000</td>\n",
       "    </tr>\n",
       "    <tr>\n",
       "      <th>2934</th>\n",
       "      <td>1611</td>\n",
       "      <td>1.114833</td>\n",
       "      <td>0.830000</td>\n",
       "    </tr>\n",
       "    <tr>\n",
       "      <th>450</th>\n",
       "      <td>1461</td>\n",
       "      <td>0.892164</td>\n",
       "      <td>0.819274</td>\n",
       "    </tr>\n",
       "    <tr>\n",
       "      <th>4142</th>\n",
       "      <td>1403</td>\n",
       "      <td>0.555882</td>\n",
       "      <td>0.900000</td>\n",
       "    </tr>\n",
       "    <tr>\n",
       "      <th>7555</th>\n",
       "      <td>1353</td>\n",
       "      <td>1.329977</td>\n",
       "      <td>0.828381</td>\n",
       "    </tr>\n",
       "    <tr>\n",
       "      <th>3532</th>\n",
       "      <td>1315</td>\n",
       "      <td>0.272498</td>\n",
       "      <td>0.852289</td>\n",
       "    </tr>\n",
       "    <tr>\n",
       "      <th>3621</th>\n",
       "      <td>1117</td>\n",
       "      <td>0.472799</td>\n",
       "      <td>0.747565</td>\n",
       "    </tr>\n",
       "    <tr>\n",
       "      <th>1520</th>\n",
       "      <td>1108</td>\n",
       "      <td>NaN</td>\n",
       "      <td>0.925632</td>\n",
       "    </tr>\n",
       "    <tr>\n",
       "      <th>6901</th>\n",
       "      <td>994</td>\n",
       "      <td>0.557895</td>\n",
       "      <td>0.834165</td>\n",
       "    </tr>\n",
       "    <tr>\n",
       "      <th>797</th>\n",
       "      <td>988</td>\n",
       "      <td>0.401649</td>\n",
       "      <td>0.830121</td>\n",
       "    </tr>\n",
       "    <tr>\n",
       "      <th>1433</th>\n",
       "      <td>740</td>\n",
       "      <td>1.054962</td>\n",
       "      <td>0.825959</td>\n",
       "    </tr>\n",
       "    <tr>\n",
       "      <th>1379</th>\n",
       "      <td>732</td>\n",
       "      <td>0.706250</td>\n",
       "      <td>0.830096</td>\n",
       "    </tr>\n",
       "  </tbody>\n",
       "</table>\n",
       "</div>"
      ],
      "text/plain": [
       "             Coupon_Ct  Distance  Discount\n",
       "Merchant_id                               \n",
       "5341              5653  0.168598  0.826036\n",
       "760               3140  0.349866  0.799873\n",
       "6485              3119  0.368567  0.770439\n",
       "3381              2487  1.652429  0.744150\n",
       "2099              1705  0.968072  0.900000\n",
       "2934              1611  1.114833  0.830000\n",
       "450               1461  0.892164  0.819274\n",
       "4142              1403  0.555882  0.900000\n",
       "7555              1353  1.329977  0.828381\n",
       "3532              1315  0.272498  0.852289\n",
       "3621              1117  0.472799  0.747565\n",
       "1520              1108       NaN  0.925632\n",
       "6901               994  0.557895  0.834165\n",
       "797                988  0.401649  0.830121\n",
       "1433               740  1.054962  0.825959\n",
       "1379               732  0.706250  0.830096"
      ]
     },
     "execution_count": 151,
     "metadata": {},
     "output_type": "execute_result"
    }
   ],
   "source": [
    "merchant_pop_ds_rate=pd.merge(left=merchant_pop_ds,right=Merchant_discount_rate,on='Merchant_id',how='inner')\n",
    "merchant_pop_ds_rate.columns=['Coupon_Ct','Distance','Discount']\n",
    "merchant_pop_ds_rate"
   ]
  },
  {
   "cell_type": "markdown",
   "id": "48c6192f",
   "metadata": {},
   "source": [
    "### 4.3 correlation "
   ]
  },
  {
   "cell_type": "code",
   "execution_count": 149,
   "id": "4820c2ff",
   "metadata": {},
   "outputs": [
    {
     "data": {
      "text/html": [
       "<div>\n",
       "<style scoped>\n",
       "    .dataframe tbody tr th:only-of-type {\n",
       "        vertical-align: middle;\n",
       "    }\n",
       "\n",
       "    .dataframe tbody tr th {\n",
       "        vertical-align: top;\n",
       "    }\n",
       "\n",
       "    .dataframe thead th {\n",
       "        text-align: right;\n",
       "    }\n",
       "</style>\n",
       "<table border=\"1\" class=\"dataframe\">\n",
       "  <thead>\n",
       "    <tr style=\"text-align: right;\">\n",
       "      <th></th>\n",
       "      <th>Coupon_Ct</th>\n",
       "      <th>Distance</th>\n",
       "      <th>Discount</th>\n",
       "    </tr>\n",
       "  </thead>\n",
       "  <tbody>\n",
       "    <tr>\n",
       "      <th>Coupon_Ct</th>\n",
       "      <td>1.000000</td>\n",
       "      <td>-0.304492</td>\n",
       "      <td>-0.253195</td>\n",
       "    </tr>\n",
       "    <tr>\n",
       "      <th>Distance</th>\n",
       "      <td>-0.304492</td>\n",
       "      <td>1.000000</td>\n",
       "      <td>-0.125563</td>\n",
       "    </tr>\n",
       "    <tr>\n",
       "      <th>Discount</th>\n",
       "      <td>-0.253195</td>\n",
       "      <td>-0.125563</td>\n",
       "      <td>1.000000</td>\n",
       "    </tr>\n",
       "  </tbody>\n",
       "</table>\n",
       "</div>"
      ],
      "text/plain": [
       "           Coupon_Ct  Distance  Discount\n",
       "Coupon_Ct   1.000000 -0.304492 -0.253195\n",
       "Distance   -0.304492  1.000000 -0.125563\n",
       "Discount   -0.253195 -0.125563  1.000000"
      ]
     },
     "execution_count": 149,
     "metadata": {},
     "output_type": "execute_result"
    }
   ],
   "source": [
    "merchant_pop_ds_rate.corr()"
   ]
  },
  {
   "cell_type": "code",
   "execution_count": 155,
   "id": "ef0867f3",
   "metadata": {},
   "outputs": [
    {
     "data": {
      "text/html": [
       "<div>\n",
       "<style scoped>\n",
       "    .dataframe tbody tr th:only-of-type {\n",
       "        vertical-align: middle;\n",
       "    }\n",
       "\n",
       "    .dataframe tbody tr th {\n",
       "        vertical-align: top;\n",
       "    }\n",
       "\n",
       "    .dataframe thead th {\n",
       "        text-align: right;\n",
       "    }\n",
       "</style>\n",
       "<table border=\"1\" class=\"dataframe\">\n",
       "  <thead>\n",
       "    <tr style=\"text-align: right;\">\n",
       "      <th></th>\n",
       "      <th>Customer_ct</th>\n",
       "      <th>Distance</th>\n",
       "      <th>Discount</th>\n",
       "    </tr>\n",
       "    <tr>\n",
       "      <th>Merchant_id</th>\n",
       "      <th></th>\n",
       "      <th></th>\n",
       "      <th></th>\n",
       "    </tr>\n",
       "  </thead>\n",
       "  <tbody>\n",
       "    <tr>\n",
       "      <th>5341</th>\n",
       "      <td>2800</td>\n",
       "      <td>0.168598</td>\n",
       "      <td>0.826036</td>\n",
       "    </tr>\n",
       "    <tr>\n",
       "      <th>760</th>\n",
       "      <td>2627</td>\n",
       "      <td>0.349866</td>\n",
       "      <td>0.799873</td>\n",
       "    </tr>\n",
       "    <tr>\n",
       "      <th>3381</th>\n",
       "      <td>2248</td>\n",
       "      <td>1.652429</td>\n",
       "      <td>0.744150</td>\n",
       "    </tr>\n",
       "    <tr>\n",
       "      <th>6485</th>\n",
       "      <td>2029</td>\n",
       "      <td>0.368567</td>\n",
       "      <td>0.770439</td>\n",
       "    </tr>\n",
       "    <tr>\n",
       "      <th>2099</th>\n",
       "      <td>1401</td>\n",
       "      <td>0.968072</td>\n",
       "      <td>0.900000</td>\n",
       "    </tr>\n",
       "    <tr>\n",
       "      <th>2934</th>\n",
       "      <td>1310</td>\n",
       "      <td>1.114833</td>\n",
       "      <td>0.830000</td>\n",
       "    </tr>\n",
       "    <tr>\n",
       "      <th>450</th>\n",
       "      <td>1094</td>\n",
       "      <td>0.892164</td>\n",
       "      <td>0.819274</td>\n",
       "    </tr>\n",
       "    <tr>\n",
       "      <th>3532</th>\n",
       "      <td>968</td>\n",
       "      <td>0.272498</td>\n",
       "      <td>0.852289</td>\n",
       "    </tr>\n",
       "    <tr>\n",
       "      <th>7555</th>\n",
       "      <td>925</td>\n",
       "      <td>1.329977</td>\n",
       "      <td>0.828381</td>\n",
       "    </tr>\n",
       "    <tr>\n",
       "      <th>1520</th>\n",
       "      <td>870</td>\n",
       "      <td>NaN</td>\n",
       "      <td>0.925632</td>\n",
       "    </tr>\n",
       "    <tr>\n",
       "      <th>6901</th>\n",
       "      <td>855</td>\n",
       "      <td>0.557895</td>\n",
       "      <td>0.834165</td>\n",
       "    </tr>\n",
       "    <tr>\n",
       "      <th>3621</th>\n",
       "      <td>851</td>\n",
       "      <td>0.472799</td>\n",
       "      <td>0.747565</td>\n",
       "    </tr>\n",
       "    <tr>\n",
       "      <th>4142</th>\n",
       "      <td>832</td>\n",
       "      <td>0.555882</td>\n",
       "      <td>0.900000</td>\n",
       "    </tr>\n",
       "    <tr>\n",
       "      <th>1379</th>\n",
       "      <td>587</td>\n",
       "      <td>0.706250</td>\n",
       "      <td>0.830096</td>\n",
       "    </tr>\n",
       "    <tr>\n",
       "      <th>1469</th>\n",
       "      <td>584</td>\n",
       "      <td>2.092800</td>\n",
       "      <td>0.721870</td>\n",
       "    </tr>\n",
       "    <tr>\n",
       "      <th>1433</th>\n",
       "      <td>559</td>\n",
       "      <td>1.054962</td>\n",
       "      <td>0.825959</td>\n",
       "    </tr>\n",
       "  </tbody>\n",
       "</table>\n",
       "</div>"
      ],
      "text/plain": [
       "             Customer_ct  Distance  Discount\n",
       "Merchant_id                                 \n",
       "5341                2800  0.168598  0.826036\n",
       "760                 2627  0.349866  0.799873\n",
       "3381                2248  1.652429  0.744150\n",
       "6485                2029  0.368567  0.770439\n",
       "2099                1401  0.968072  0.900000\n",
       "2934                1310  1.114833  0.830000\n",
       "450                 1094  0.892164  0.819274\n",
       "3532                 968  0.272498  0.852289\n",
       "7555                 925  1.329977  0.828381\n",
       "1520                 870       NaN  0.925632\n",
       "6901                 855  0.557895  0.834165\n",
       "3621                 851  0.472799  0.747565\n",
       "4142                 832  0.555882  0.900000\n",
       "1379                 587  0.706250  0.830096\n",
       "1469                 584  2.092800  0.721870\n",
       "1433                 559  1.054962  0.825959"
      ]
     },
     "execution_count": 155,
     "metadata": {},
     "output_type": "execute_result"
    }
   ],
   "source": [
    "merchant_pop_ds2=pd.merge(left=cpon_consume_customer_ct[:16],right=Merchant_distance,on='Merchant_id',how='inner')\n",
    "merchant_pop_ds_rate2=pd.merge(left=merchant_pop_ds2,right=Merchant_discount_rate,on='Merchant_id',how='inner')\n",
    "merchant_pop_ds_rate2.columns=['Customer_ct','Distance','Discount']\n",
    "merchant_pop_ds_rate2"
   ]
  },
  {
   "cell_type": "code",
   "execution_count": 156,
   "id": "250d03cd",
   "metadata": {
    "scrolled": true
   },
   "outputs": [
    {
     "data": {
      "text/html": [
       "<div>\n",
       "<style scoped>\n",
       "    .dataframe tbody tr th:only-of-type {\n",
       "        vertical-align: middle;\n",
       "    }\n",
       "\n",
       "    .dataframe tbody tr th {\n",
       "        vertical-align: top;\n",
       "    }\n",
       "\n",
       "    .dataframe thead th {\n",
       "        text-align: right;\n",
       "    }\n",
       "</style>\n",
       "<table border=\"1\" class=\"dataframe\">\n",
       "  <thead>\n",
       "    <tr style=\"text-align: right;\">\n",
       "      <th></th>\n",
       "      <th>Customer_ct</th>\n",
       "      <th>Distance</th>\n",
       "      <th>Discount</th>\n",
       "    </tr>\n",
       "  </thead>\n",
       "  <tbody>\n",
       "    <tr>\n",
       "      <th>Customer_ct</th>\n",
       "      <td>1.000000</td>\n",
       "      <td>-0.306180</td>\n",
       "      <td>-0.204102</td>\n",
       "    </tr>\n",
       "    <tr>\n",
       "      <th>Distance</th>\n",
       "      <td>-0.306180</td>\n",
       "      <td>1.000000</td>\n",
       "      <td>-0.397376</td>\n",
       "    </tr>\n",
       "    <tr>\n",
       "      <th>Discount</th>\n",
       "      <td>-0.204102</td>\n",
       "      <td>-0.397376</td>\n",
       "      <td>1.000000</td>\n",
       "    </tr>\n",
       "  </tbody>\n",
       "</table>\n",
       "</div>"
      ],
      "text/plain": [
       "             Customer_ct  Distance  Discount\n",
       "Customer_ct     1.000000 -0.306180 -0.204102\n",
       "Distance       -0.306180  1.000000 -0.397376\n",
       "Discount       -0.204102 -0.397376  1.000000"
      ]
     },
     "execution_count": 156,
     "metadata": {},
     "output_type": "execute_result"
    }
   ],
   "source": [
    "merchant_pop_ds_rate2.corr()"
   ]
  },
  {
   "cell_type": "code",
   "execution_count": 162,
   "id": "fc77cdc4",
   "metadata": {},
   "outputs": [
    {
     "data": {
      "text/plain": [
       "<AxesSubplot:>"
      ]
     },
     "execution_count": 162,
     "metadata": {},
     "output_type": "execute_result"
    },
    {
     "data": {
      "image/png": "[encoded data removed]",
      "text/plain": [
       "<Figure size 432x288 with 2 Axes>"
      ]
     },
     "metadata": {
      "needs_background": "light"
     },
     "output_type": "display_data"
    }
   ],
   "source": [
    "sns.heatmap(data=merchant_pop_ds_rate.corr(), cmap=\"crest\",annot=True)"
   ]
  },
  {
   "cell_type": "code",
   "execution_count": 163,
   "id": "599fd1c2",
   "metadata": {
    "scrolled": true
   },
   "outputs": [
    {
     "data": {
      "text/plain": [
       "<AxesSubplot:>"
      ]
     },
     "execution_count": 163,
     "metadata": {},
     "output_type": "execute_result"
    },
    {
     "data": {
      "image/png": "[encoded data removed]",
      "text/plain": [
       "<Figure size 432x288 with 2 Axes>"
      ]
     },
     "metadata": {
      "needs_background": "light"
     },
     "output_type": "display_data"
    }
   ],
   "source": [
    "sns.heatmap(data=merchant_pop_ds_rate2.corr(), cmap=\"Accent\",annot=True)"
   ]
  },
  {
   "cell_type": "markdown",
   "id": "d67034b0",
   "metadata": {},
   "source": [
    "### Insight: Coupon redeem  and distance have a no-obvious negative relation, between 0.3 and 0.4\n",
    "### Coupon redeem  and discount rate have a no-obvious negative relation, at 0.2-0.4"
   ]
  },
  {
   "cell_type": "markdown",
   "id": "fcf85dc1",
   "metadata": {},
   "source": [
    "### 4.4 Daily Coupon dispatching and using"
   ]
  },
  {
   "cell_type": "code",
   "execution_count": 188,
   "id": "5086a06c",
   "metadata": {},
   "outputs": [
    {
     "data": {
      "text/plain": [
       "Date_received\n",
       "2016-01-01     74\n",
       "2016-01-02     67\n",
       "2016-01-03     74\n",
       "2016-01-04     98\n",
       "2016-01-05    107\n",
       "             ... \n",
       "2016-06-11    351\n",
       "2016-06-12    330\n",
       "2016-06-13    439\n",
       "2016-06-14    394\n",
       "2016-06-15    355\n",
       "Name: Coupon_id, Length: 167, dtype: int64"
      ]
     },
     "execution_count": 188,
     "metadata": {},
     "output_type": "execute_result"
    }
   ],
   "source": [
    "coupon_consume_everyday=cpon_consume.groupby('Date_received')['Coupon_id'].count()\n",
    "coupon_consume_everyday"
   ]
  },
  {
   "cell_type": "code",
   "execution_count": 185,
   "id": "ccc02640",
   "metadata": {
    "scrolled": true
   },
   "outputs": [
    {
     "data": {
      "text/plain": [
       "Date_received\n",
       "2016-01-01     554\n",
       "2016-01-02     542\n",
       "2016-01-03     536\n",
       "2016-01-04     577\n",
       "2016-01-05     691\n",
       "              ... \n",
       "2016-06-11    5211\n",
       "2016-06-12    4005\n",
       "2016-06-13    7861\n",
       "2016-06-14    4755\n",
       "2016-06-15    3475\n",
       "Name: Coupon_id, Length: 167, dtype: int64"
      ]
     },
     "execution_count": 185,
     "metadata": {},
     "output_type": "execute_result"
    }
   ],
   "source": [
    "coupon_dispatch_everyday=data.groupby('Date_received')['Coupon_id'].count()\n",
    "coupon_dispatch_everyday"
   ]
  },
  {
   "cell_type": "code",
   "execution_count": 184,
   "id": "c96f31c3",
   "metadata": {},
   "outputs": [
    {
     "data": {
      "text/html": [
       "<div>\n",
       "<style scoped>\n",
       "    .dataframe tbody tr th:only-of-type {\n",
       "        vertical-align: middle;\n",
       "    }\n",
       "\n",
       "    .dataframe tbody tr th {\n",
       "        vertical-align: top;\n",
       "    }\n",
       "\n",
       "    .dataframe thead th {\n",
       "        text-align: right;\n",
       "    }\n",
       "</style>\n",
       "<table border=\"1\" class=\"dataframe\">\n",
       "  <thead>\n",
       "    <tr style=\"text-align: right;\">\n",
       "      <th></th>\n",
       "      <th>User_id</th>\n",
       "    </tr>\n",
       "    <tr>\n",
       "      <th>Date_received</th>\n",
       "      <th></th>\n",
       "    </tr>\n",
       "  </thead>\n",
       "  <tbody>\n",
       "    <tr>\n",
       "      <th>2016-01-01</th>\n",
       "      <td>554</td>\n",
       "    </tr>\n",
       "    <tr>\n",
       "      <th>2016-01-02</th>\n",
       "      <td>542</td>\n",
       "    </tr>\n",
       "    <tr>\n",
       "      <th>2016-01-03</th>\n",
       "      <td>536</td>\n",
       "    </tr>\n",
       "    <tr>\n",
       "      <th>2016-01-04</th>\n",
       "      <td>577</td>\n",
       "    </tr>\n",
       "    <tr>\n",
       "      <th>2016-01-05</th>\n",
       "      <td>691</td>\n",
       "    </tr>\n",
       "    <tr>\n",
       "      <th>2016-01-06</th>\n",
       "      <td>808</td>\n",
       "    </tr>\n",
       "    <tr>\n",
       "      <th>2016-01-07</th>\n",
       "      <td>746</td>\n",
       "    </tr>\n",
       "    <tr>\n",
       "      <th>2016-01-08</th>\n",
       "      <td>970</td>\n",
       "    </tr>\n",
       "    <tr>\n",
       "      <th>2016-01-09</th>\n",
       "      <td>1003</td>\n",
       "    </tr>\n",
       "    <tr>\n",
       "      <th>2016-01-10</th>\n",
       "      <td>869</td>\n",
       "    </tr>\n",
       "    <tr>\n",
       "      <th>2016-01-11</th>\n",
       "      <td>712</td>\n",
       "    </tr>\n",
       "    <tr>\n",
       "      <th>2016-01-12</th>\n",
       "      <td>773</td>\n",
       "    </tr>\n",
       "    <tr>\n",
       "      <th>2016-01-13</th>\n",
       "      <td>1459</td>\n",
       "    </tr>\n",
       "    <tr>\n",
       "      <th>2016-01-14</th>\n",
       "      <td>1520</td>\n",
       "    </tr>\n",
       "    <tr>\n",
       "      <th>2016-01-15</th>\n",
       "      <td>1665</td>\n",
       "    </tr>\n",
       "    <tr>\n",
       "      <th>2016-01-16</th>\n",
       "      <td>1517</td>\n",
       "    </tr>\n",
       "    <tr>\n",
       "      <th>2016-01-17</th>\n",
       "      <td>1546</td>\n",
       "    </tr>\n",
       "    <tr>\n",
       "      <th>2016-01-18</th>\n",
       "      <td>1177</td>\n",
       "    </tr>\n",
       "    <tr>\n",
       "      <th>2016-01-19</th>\n",
       "      <td>1283</td>\n",
       "    </tr>\n",
       "    <tr>\n",
       "      <th>2016-01-20</th>\n",
       "      <td>1166</td>\n",
       "    </tr>\n",
       "    <tr>\n",
       "      <th>2016-01-21</th>\n",
       "      <td>1194</td>\n",
       "    </tr>\n",
       "    <tr>\n",
       "      <th>2016-01-22</th>\n",
       "      <td>1236</td>\n",
       "    </tr>\n",
       "    <tr>\n",
       "      <th>2016-01-23</th>\n",
       "      <td>24045</td>\n",
       "    </tr>\n",
       "    <tr>\n",
       "      <th>2016-01-24</th>\n",
       "      <td>39481</td>\n",
       "    </tr>\n",
       "    <tr>\n",
       "      <th>2016-01-25</th>\n",
       "      <td>65904</td>\n",
       "    </tr>\n",
       "    <tr>\n",
       "      <th>2016-01-26</th>\n",
       "      <td>26027</td>\n",
       "    </tr>\n",
       "    <tr>\n",
       "      <th>2016-01-27</th>\n",
       "      <td>18893</td>\n",
       "    </tr>\n",
       "    <tr>\n",
       "      <th>2016-01-28</th>\n",
       "      <td>34334</td>\n",
       "    </tr>\n",
       "    <tr>\n",
       "      <th>2016-01-29</th>\n",
       "      <td>71658</td>\n",
       "    </tr>\n",
       "    <tr>\n",
       "      <th>2016-01-30</th>\n",
       "      <td>33226</td>\n",
       "    </tr>\n",
       "  </tbody>\n",
       "</table>\n",
       "</div>"
      ],
      "text/plain": [
       "               User_id\n",
       "Date_received         \n",
       "2016-01-01         554\n",
       "2016-01-02         542\n",
       "2016-01-03         536\n",
       "2016-01-04         577\n",
       "2016-01-05         691\n",
       "2016-01-06         808\n",
       "2016-01-07         746\n",
       "2016-01-08         970\n",
       "2016-01-09        1003\n",
       "2016-01-10         869\n",
       "2016-01-11         712\n",
       "2016-01-12         773\n",
       "2016-01-13        1459\n",
       "2016-01-14        1520\n",
       "2016-01-15        1665\n",
       "2016-01-16        1517\n",
       "2016-01-17        1546\n",
       "2016-01-18        1177\n",
       "2016-01-19        1283\n",
       "2016-01-20        1166\n",
       "2016-01-21        1194\n",
       "2016-01-22        1236\n",
       "2016-01-23       24045\n",
       "2016-01-24       39481\n",
       "2016-01-25       65904\n",
       "2016-01-26       26027\n",
       "2016-01-27       18893\n",
       "2016-01-28       34334\n",
       "2016-01-29       71658\n",
       "2016-01-30       33226"
      ]
     },
     "execution_count": 184,
     "metadata": {},
     "output_type": "execute_result"
    }
   ],
   "source": [
    "data[data['Date_received'].notnull()][['Date_received','User_id']].groupby('Date_received').count()[:30]"
   ]
  },
  {
   "cell_type": "code",
   "execution_count": 175,
   "id": "d38eded3",
   "metadata": {},
   "outputs": [
    {
     "data": {
      "text/html": [
       "<div>\n",
       "<style scoped>\n",
       "    .dataframe tbody tr th:only-of-type {\n",
       "        vertical-align: middle;\n",
       "    }\n",
       "\n",
       "    .dataframe tbody tr th {\n",
       "        vertical-align: top;\n",
       "    }\n",
       "\n",
       "    .dataframe thead th {\n",
       "        text-align: right;\n",
       "    }\n",
       "</style>\n",
       "<table border=\"1\" class=\"dataframe\">\n",
       "  <thead>\n",
       "    <tr style=\"text-align: right;\">\n",
       "      <th></th>\n",
       "      <th>coupon_dispatch_day</th>\n",
       "      <th>coupon_use_day</th>\n",
       "    </tr>\n",
       "  </thead>\n",
       "  <tbody>\n",
       "    <tr>\n",
       "      <th>coupon_dispatch_day</th>\n",
       "      <td>1.000000</td>\n",
       "      <td>0.613009</td>\n",
       "    </tr>\n",
       "    <tr>\n",
       "      <th>coupon_use_day</th>\n",
       "      <td>0.613009</td>\n",
       "      <td>1.000000</td>\n",
       "    </tr>\n",
       "  </tbody>\n",
       "</table>\n",
       "</div>"
      ],
      "text/plain": [
       "                     coupon_dispatch_day  coupon_use_day\n",
       "coupon_dispatch_day             1.000000        0.613009\n",
       "coupon_use_day                  0.613009        1.000000"
      ]
     },
     "execution_count": 175,
     "metadata": {},
     "output_type": "execute_result"
    }
   ],
   "source": [
    "coupon_dispatch_using=pd.merge(left=coupon_consume_everyday,right=coupon_dispatch_everyday,on='Date_received',how='inner')\n",
    "coupon_dispatch_using.columns=['coupon_dispatch_day','coupon_use_day']\n",
    "coupon_dispatch_using.corr()"
   ]
  },
  {
   "cell_type": "markdown",
   "id": "782d3ec2",
   "metadata": {},
   "source": [
    "### Insight: There is a relatively positive correlation between coupon dispatching and coupon using. A higher amount of coupon dispatching results on higher rate of coupon redeeming"
   ]
  },
  {
   "cell_type": "code",
   "execution_count": 192,
   "id": "fe655966",
   "metadata": {
    "scrolled": true
   },
   "outputs": [
    {
     "data": {
      "text/plain": [
       "<matplotlib.legend.Legend at 0x27029d910d0>"
      ]
     },
     "execution_count": 192,
     "metadata": {},
     "output_type": "execute_result"
    },
    {
     "data": {
      "image/png": "[encoded data removed]",
      "text/plain": [
       "<Figure size 1296x432 with 1 Axes>"
      ]
     },
     "metadata": {
      "needs_background": "light"
     },
     "output_type": "display_data"
    }
   ],
   "source": [
    "# Data visulziation \n",
    "plt.figure(figsize=(18,6))\n",
    "plt.bar(x=coupon_dispatch_everyday.index,height=coupon_dispatch_everyday.values,label='Coupon Dispatching Per Day')\n",
    "plt.bar(x=coupon_consume_everyday.index,height=coupon_consume_everyday.values,label='Coupon Redeeming Per Day')\n",
    "plt.title('Coupon Dispatching and Redeeming per Day')\n",
    "plt.yscale('log')\n",
    "plt.legend()"
   ]
  },
  {
   "cell_type": "code",
   "execution_count": 194,
   "id": "a8b26e52",
   "metadata": {},
   "outputs": [
    {
     "data": {
      "text/plain": [
       "<matplotlib.legend.Legend at 0x2702a823730>"
      ]
     },
     "execution_count": 194,
     "metadata": {},
     "output_type": "execute_result"
    },
    {
     "data": {
      "image/png": "[encoded data removed]",
      "text/plain": [
       "<Figure size 1296x432 with 1 Axes>"
      ]
     },
     "metadata": {
      "needs_background": "light"
     },
     "output_type": "display_data"
    }
   ],
   "source": [
    "plt.figure(figsize=(18,6))\n",
    "plt.bar(x=coupon_dispatch_everyday.index,height=coupon_consume_everyday.values/coupon_dispatch_everyday.values,label='pentage'\n",
    "       )\n",
    "plt.legend()"
   ]
  },
  {
   "cell_type": "markdown",
   "id": "6d80b53b",
   "metadata": {},
   "source": [
    "### Insight: Coupon redeeming rate has a wide range from 0.02 to 0.25. April 2016 logged the highest coupon redeeming rate "
   ]
  },
  {
   "cell_type": "code",
   "execution_count": null,
   "id": "b26e029d",
   "metadata": {},
   "outputs": [],
   "source": []
  }
 ],
 "metadata": {
  "kernelspec": {
   "display_name": "Python 3 (ipykernel)",
   "language": "python",
   "name": "python3"
  },
  "language_info": {
   "codemirror_mode": {
    "name": "ipython",
    "version": 3
   },
   "file_extension": ".py",
   "mimetype": "text/x-python",
   "name": "python",
   "nbconvert_exporter": "python",
   "pygments_lexer": "ipython3",
   "version": "3.9.12"
  }
 },
 "nbformat": 4,
 "nbformat_minor": 5
}
